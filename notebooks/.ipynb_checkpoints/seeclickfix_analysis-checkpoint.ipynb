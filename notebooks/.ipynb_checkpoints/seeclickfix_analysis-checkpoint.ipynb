{
 "cells": [
  {
   "cell_type": "code",
   "execution_count": 1,
   "id": "cacace74-afec-4067-8eb6-8d01c5a79a83",
   "metadata": {},
   "outputs": [
    {
     "name": "stdout",
     "output_type": "stream",
     "text": [
      "Collecting psycopg2-binary\n",
      "  Downloading psycopg2_binary-2.9.10-cp311-cp311-manylinux_2_17_aarch64.manylinux2014_aarch64.whl.metadata (4.9 kB)\n",
      "Downloading psycopg2_binary-2.9.10-cp311-cp311-manylinux_2_17_aarch64.manylinux2014_aarch64.whl (2.9 MB)\n",
      "\u001b[2K   \u001b[90m━━━━━━━━━━━━━━━━━━━━━━━━━━━━━━━━━━━━━━━━\u001b[0m \u001b[32m2.9/2.9 MB\u001b[0m \u001b[31m27.3 MB/s\u001b[0m eta \u001b[36m0:00:00\u001b[0ma \u001b[36m0:00:01\u001b[0m\n",
      "\u001b[?25hInstalling collected packages: psycopg2-binary\n",
      "Successfully installed psycopg2-binary-2.9.10\n",
      "Note: you may need to restart the kernel to use updated packages.\n"
     ]
    }
   ],
   "source": [
    "pip install psycopg2-binary"
   ]
  },
  {
   "cell_type": "code",
   "execution_count": 2,
   "id": "0a6d5b02-b795-4205-b0d5-7a7eb12057c1",
   "metadata": {},
   "outputs": [
    {
     "name": "stdout",
     "output_type": "stream",
     "text": [
      "import psycopg2\n"
     ]
    }
   ],
   "source": [
    "import psycopg2\n",
    "import json\n",
    "import pandas as pd\n",
    "print(\"imports\")"
   ]
  },
  {
   "cell_type": "code",
   "execution_count": null,
   "id": "b9e96ec4-6b0f-4db7-b43d-7e537ef92c09",
   "metadata": {},
   "outputs": [],
   "source": [
    "# Database connection details\n",
    "host = \"postgres\"  # Use the service name instead of \"localhost\"\n",
    "port = 5432  # Use the default PostgreSQL port within the container network\n",
    "database = \"airflow\"\n",
    "user = \"airflow\"\n",
    "password = \"airflow\"\n"
   ]
  },
  {
   "cell_type": "code",
   "execution_count": 3,
   "id": "0186e58a-23fa-4541-92e0-eb79358703b2",
   "metadata": {},
   "outputs": [
    {
     "name": "stdout",
     "output_type": "stream",
     "text": [
      "Connection to PostgreSQL successful!\n",
      "PostgreSQL version: PostgreSQL 13.16 (Debian 13.16-1.pgdg120+1) on aarch64-unknown-linux-gnu, compiled by gcc (Debian 12.2.0-14) 12.2.0, 64-bit\n"
     ]
    }
   ],
   "source": [
    "# Create Cursor\n",
    "try:\n",
    "    # Connect to PostgreSQL\n",
    "    connection = psycopg2.connect(\n",
    "        host=host,\n",
    "        port=port,\n",
    "        database=database,\n",
    "        user=user,\n",
    "        password=password\n",
    "    )\n",
    "    print(\"Connection to PostgreSQL successful!\")\n",
    "\n",
    "    # Create a cursor to execute queries\n",
    "    cursor = connection.cursor()\n",
    "except Exception as e:\n",
    "    print(f\"Error: {e}\")\n"
   ]
  },
  {
   "cell_type": "code",
   "execution_count": null,
   "id": "6f18f5f5-3f71-4983-87db-14d8eca18bbe",
   "metadata": {},
   "outputs": [],
   "source": [
    "\n",
    "# Path to the dbt run results JSON file\n",
    "dbt_run_results_path = 'target/run_results.json'\n",
    "\n",
    "# Load the dbt run results\n",
    "with open(dbt_run_results_path, 'r') as file:\n",
    "    dbt_results = json.load(file)\n",
    "\n",
    "# Filter for the specific test (e.g., stg_issues)\n",
    "stg_issues = [\n",
    "    {\n",
    "        \"status\": result[\"status\"],\n",
    "        \"test_name\": result[\"unique_id\"],\n",
    "        \"execution_time\": result.get(\"execution_time\"),\n",
    "        \"failure_message\": result.get(\"message\")\n",
    "    }\n",
    "    for result in dbt_results[\"results\"]\n",
    "    if \"stg_issues\" in result[\"unique_id\"]  # Adjust to match the test name\n",
    "]\n",
    "\n",
    "# Convert to a pandas DataFrame\n",
    "stg_issues_df = pd.DataFrame(stg_issues)\n",
    "\n",
    "# Display the DataFrame\n",
    "print(stg_issues_df)\n"
   ]
  },
  {
   "cell_type": "code",
   "execution_count": null,
   "id": "dfb38023-9435-498c-adb5-34850b6f88b3",
   "metadata": {},
   "outputs": [],
   "source": [
    "cursor.close()\n",
    "connection.close()"
   ]
  }
 ],
 "metadata": {
  "kernelspec": {
   "display_name": "Python 3 (ipykernel)",
   "language": "python",
   "name": "python3"
  },
  "language_info": {
   "codemirror_mode": {
    "name": "ipython",
    "version": 3
   },
   "file_extension": ".py",
   "mimetype": "text/x-python",
   "name": "python",
   "nbconvert_exporter": "python",
   "pygments_lexer": "ipython3",
   "version": "3.11.6"
  }
 },
 "nbformat": 4,
 "nbformat_minor": 5
}
